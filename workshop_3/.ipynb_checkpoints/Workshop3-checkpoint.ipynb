{
 "cells": [
  {
   "cell_type": "code",
   "execution_count": null,
   "metadata": {
    "ExecuteTime": {
     "end_time": "2018-09-10T14:22:59.638836Z",
     "start_time": "2018-09-10T14:22:59.635304Z"
    }
   },
   "outputs": [],
   "source": [
    "import pandas as pd\n",
    "import numpy as np\n"
   ]
  },
  {
   "cell_type": "code",
   "execution_count": null,
   "metadata": {
    "ExecuteTime": {
     "end_time": "2018-09-10T14:23:00.219755Z",
     "start_time": "2018-09-10T14:23:00.162802Z"
    }
   },
   "outputs": [],
   "source": [
    "df_housing_train = pd.read_csv('train.csv')\n",
    "df_housing_test = pd.read_csv('test.csv')"
   ]
  },
  {
   "cell_type": "code",
   "execution_count": null,
   "metadata": {
    "ExecuteTime": {
     "end_time": "2018-09-10T14:23:00.596910Z",
     "start_time": "2018-09-10T14:23:00.585802Z"
    }
   },
   "outputs": [],
   "source": [
    "df_housing_train = df_housing_train.drop('Id', axis=1)\n",
    "df_housing_test = df_housing_test.drop('Id', axis=1)"
   ]
  },
  {
   "cell_type": "code",
   "execution_count": null,
   "metadata": {
    "ExecuteTime": {
     "end_time": "2018-09-10T14:23:01.055591Z",
     "start_time": "2018-09-10T14:23:01.015189Z"
    }
   },
   "outputs": [],
   "source": [
    "df_housing_train = df_housing_train.select_dtypes(include=['float32', 'float64', 'int'])\n",
    "df_housing_test = df_housing_test.select_dtypes(include=['float32', 'float64', 'int'])\n",
    "df_housing_train = df_housing_train.fillna(-1)\n",
    "df_housing_test = df_housing_test.fillna(-1)"
   ]
  },
  {
   "cell_type": "code",
   "execution_count": null,
   "metadata": {
    "ExecuteTime": {
     "end_time": "2018-09-10T14:23:01.457428Z",
     "start_time": "2018-09-10T14:23:01.454372Z"
    }
   },
   "outputs": [],
   "source": [
    "df_housing_train_X = df_housing_train.drop('SalePrice', axis=1)\n",
    "df_housing_train_y = df_housing_train['SalePrice']\n",
    "\n"
   ]
  },
  {
   "cell_type": "code",
   "execution_count": null,
   "metadata": {
    "ExecuteTime": {
     "end_time": "2018-09-10T13:23:03.447690Z",
     "start_time": "2018-09-10T13:23:03.060704Z"
    },
    "code_folding": []
   },
   "outputs": [],
   "source": [
    "from sklearn.linear_model import LinearRegression as LR\n",
    "from sklearn.model_selection import train_test_split\n",
    "def PF(X, degree):\n",
    "    X_np = pd.DataFrame.as_matrix(X)\n",
    "    for i in range(degree):\n",
    "        tmp_raise = np.power(X_np, i)\n",
    "        X_np = np.append(X_np, tmp_raise, axis=1)\n",
    "    return pd.DataFrame(X_np)    \n",
    "\n",
    "\n",
    "\n",
    "\n",
    "for i in range(1,4):\n",
    "    X_poly = PF(df_housing_train_X, i)\n",
    "    X_train, X_val, y_train, y_val = train_test_split(X_poly, df_housing_train_y,\n",
    "                                                   test_size=0.4, train_size=0.6, \n",
    "                                                   random_state=0, shuffle=True,\n",
    "                                                   stratify=None)\n",
    "    X_val, X_test, y_val, y_test = train_test_split(X_val, y_val, train_size=0.5,\n",
    "                                               test_size=0.5, random_state=0)\n",
    "    LR_model = LR()\n",
    "    LR_model.fit(X_train, y_train)\n",
    "    print('training set accuracy for degree {}: {}'.format(i, \n",
    "                                                       LR_model.score(X_train, y_train)))\n",
    "    print('validation set accuracy for degree {}: {}'. format(i,\n",
    "                                                         LR_model.score(X_val, y_val)))\n",
    "\n"
   ]
  },
  {
   "cell_type": "code",
   "execution_count": null,
   "metadata": {
    "ExecuteTime": {
     "end_time": "2018-09-10T14:28:03.446610Z",
     "start_time": "2018-09-10T14:28:03.221911Z"
    },
    "code_folding": []
   },
   "outputs": [],
   "source": []
  },
  {
   "cell_type": "code",
   "execution_count": null,
   "metadata": {
    "ExecuteTime": {
     "end_time": "2018-08-23T00:24:52.541938Z",
     "start_time": "2018-08-23T00:24:52.459920Z"
    }
   },
   "outputs": [],
   "source": [
    "\n",
    "    "
   ]
  },
  {
   "cell_type": "code",
   "execution_count": null,
   "metadata": {
    "ExecuteTime": {
     "end_time": "2018-08-22T23:54:02.443052Z",
     "start_time": "2018-08-22T23:54:02.368376Z"
    }
   },
   "outputs": [],
   "source": []
  },
  {
   "cell_type": "code",
   "execution_count": null,
   "metadata": {},
   "outputs": [],
   "source": []
  }
 ],
 "metadata": {
  "kernelspec": {
   "display_name": "Python 3",
   "language": "python",
   "name": "python3"
  },
  "language_info": {
   "codemirror_mode": {
    "name": "ipython",
    "version": 3
   },
   "file_extension": ".py",
   "mimetype": "text/x-python",
   "name": "python",
   "nbconvert_exporter": "python",
   "pygments_lexer": "ipython3",
   "version": "3.6.6"
  },
  "latex_envs": {
   "LaTeX_envs_menu_present": true,
   "autoclose": false,
   "autocomplete": true,
   "bibliofile": "biblio.bib",
   "cite_by": "apalike",
   "current_citInitial": 1,
   "eqLabelWithNumbers": true,
   "eqNumInitial": 1,
   "hotkeys": {
    "equation": "Ctrl-E",
    "itemize": "Ctrl-I"
   },
   "labels_anchors": false,
   "latex_user_defs": false,
   "report_style_numbering": false,
   "user_envs_cfg": false
  }
 },
 "nbformat": 4,
 "nbformat_minor": 2
}
